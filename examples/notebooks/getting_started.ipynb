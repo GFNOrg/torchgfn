{
 "cells": [
  {
   "attachments": {},
   "cell_type": "markdown",
   "metadata": {},
   "source": [
    "# Getting started: `gfn` from scratch\n",
    "\n",
    "The goal of this notebook is two-fold:\n",
    "\n",
    "* to take you through both the intuitions of why and how to use GFlowNets\n",
    "* to teach you the basic structures and components of `gfn` to train your own GFlowNets\n",
    "\n",
    "This is neither a theoretical course on GFlowNets (see resources at the end) nor a guide on how to invent your own `gfn` components (we have [other tutorials for that](link)).\n",
    "\n",
    "Let's get started!"
   ]
  },
  {
   "attachments": {},
   "cell_type": "markdown",
   "metadata": {},
   "source": [
    "## 1. Objective\n",
    "\n",
    "The problem today is the following: we're given a hyper grid (=a multidimensional grid)"
   ]
  }
 ],
 "metadata": {
  "kernelspec": {
   "display_name": "gfn",
   "language": "python",
   "name": "python3"
  },
  "language_info": {
   "name": "python",
   "version": "3.10.3"
  },
  "orig_nbformat": 4
 },
 "nbformat": 4,
 "nbformat_minor": 2
}
